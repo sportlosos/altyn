{
  "nbformat": 4,
  "nbformat_minor": 0,
  "metadata": {
    "colab": {
      "provenance": [],
      "collapsed_sections": [],
      "machine_shape": "hm",
      "private_outputs": true,
      "background_execution": "on",
      "include_colab_link": true
    },
    "kernelspec": {
      "name": "python3",
      "display_name": "Python 3"
    },
    "language_info": {
      "name": "python"
    },
    "accelerator": "GPU"
  },
  "cells": [
    {
      "cell_type": "markdown",
      "metadata": {
        "id": "view-in-github",
        "colab_type": "text"
      },
      "source": [
        "<a href=\"https://colab.research.google.com/github/sportlosos/desktop-tutorial/blob/main/newinFILM_Gdrive.ipynb\" target=\"_parent\"><img src=\"https://colab.research.google.com/assets/colab-badge.svg\" alt=\"Open In Colab\"/></a>"
      ]
    },
    {
      "cell_type": "markdown",
      "source": [
        "# With this notebook you can slow down your image sequence generated with **VQGAN+CLIP**, **pytti**, **Disco Diffusion** or any other. \n",
        "### More information about **frame-interpolation** algorithm on [github](https://github.com/google-research/frame-interpolation)\n",
        "---\n",
        "###telegram: [тоже моушн](https://t.me/too_motion) \n",
        "\n",
        "Stronger GDrive integration and other minor modifications by [Derrick Schultz](https://linktr.ee/dvsmethid).\n",
        "\n",
        "If you have Pro/+, I highly recommend using the High RAM setting."
      ],
      "metadata": {
        "id": "JfVPO1I1sVbx"
      }
    },
    {
      "cell_type": "code",
      "execution_count": null,
      "metadata": {
        "id": "zF4hYQSGn0e7"
      },
      "outputs": [],
      "source": [
        "#@markdown ##check GPU\n",
        "!nvidia-smi\n"
      ]
    },
    {
      "cell_type": "code",
      "source": [
        "#@markdown ##Mount Google Drive\n",
        "from google.colab import drive\n",
        "drive.mount('/content/gdrive')"
      ],
      "metadata": {
        "id": "ujdM_NkvkZWn"
      },
      "execution_count": null,
      "outputs": []
    },
    {
      "cell_type": "code",
      "source": [
        "#@markdown ##prep #1\n",
        "#@markdown ###you will see the restart button after execution. press it or go `Runtime > Restart runtime`\n",
        "#@markdown ###and after restarting **RUN THIS CELL AGAIN**\n",
        "!pip install gdown --upgrade\n",
        "!pip install tensorflow-datasets==4.4.0 tensorflow-addons==0.15.0 absl-py==0.12.0 gin-config==0.5.0 parameterized==0.8.1 mediapy==1.0.3 scikit-image==0.19.1 apache-beam==2.34.0\n"
      ],
      "metadata": {
        "id": "el_ckJCqiUdc"
      },
      "execution_count": null,
      "outputs": []
    },
    {
      "cell_type": "code",
      "source": [
        "#@markdown ##prep #2\n",
        "#@markdown ###clone repo\n",
        "import os\n",
        "if os.path.isdir('/content/gdrive/MyDrive/FILM/frame_interpolation'):\n",
        "  %cd /content/gdrive/MyDrive/FILM/frame_interpolation\n",
        "elif os.path.isdir('/content/gdrive/MyDrive/'):\n",
        "  %cd /content/gdrive/MyDrive\n",
        "  !mkdir FILM\n",
        "  %cd FILM\n",
        "  !git clone https://github.com/google-research/frame-interpolation frame_interpolation\n",
        "else:\n",
        "  !git clone https://github.com/google-research/frame-interpolation frame_interpolation\n",
        "  %cd frame_interpolation"
      ],
      "metadata": {
        "id": "X3ZO5P0itvjx"
      },
      "execution_count": null,
      "outputs": []
    },
    {
      "cell_type": "code",
      "source": [
        "import os\n",
        "#@markdown ##prep #3\n",
        "#@markdown ###download pretrained models\n",
        "##@markdown ###if you get a message that *download ended unsuccessfully*, run this cell again\n",
        "#import gdown\n",
        "\n",
        "#url = 'https://drive.google.com/drive/folders/1q8110-qp225asX3DQvZnfLfJPkCHmDpy?usp=sharing'\n",
        "\n",
        "#gdown.download_folder(url)\n",
        "if os.path.isdir(\"/content/gdrive/MyDrive/FILM/frame_interpolation/pretrained_models/film_net\"):\n",
        "  %cd /content/gdrive/MyDrive/FILM/\n",
        "elif os.path.isdir('/content/gdrive/MyDrive/FILM/frame_interpolation'):\n",
        "  !gdown 1C1YwOo293_yrgSS8tAyFbbVcMeXxzftE -O /content/gdrive/MyDrive/FILM/frame_interpolation/pretrained_models-20220214T214839Z-001.zip\n",
        "  !unzip \"/content/gdrive/MyDrive/FILM/frame_interpolation/pretrained_models-20220214T214839Z-001.zip\"\n",
        "  %cd /content/gdrive/MyDrive/FILM/\n",
        "else: \n",
        "  !gdown 1C1YwOo293_yrgSS8tAyFbbVcMeXxzftE\n",
        "  # !gdown 1DYg00AUG5Hu7bIoz03DAZhST-09k6STm\n",
        "  !unzip \"/content/frame_interpolation/pretrained_models-20220214T214839Z-001.zip\"\n",
        "  #!mv \"/content/interpolator_cli.py\" \"/content/frame_interpolation/eval/interpolator_cli.py\"\n",
        "  %cd /content/"
      ],
      "metadata": {
        "id": "bw_ii1I3qNm0"
      },
      "execution_count": null,
      "outputs": []
    },
    {
      "cell_type": "markdown",
      "source": [
        "## If you already have a video, separate the frames"
      ],
      "metadata": {
        "id": "eZp8LG-Omgu-"
      }
    },
    {
      "cell_type": "code",
      "source": [
        "vid_path = \"/content/gdrive/MyDrive/FILM/frame_interpolation/photos/interpolated.mp4\"\n",
        "\n",
        "!mkdir /content/input-frames_half_pass2/\n",
        "!ffmpeg -i $vid_path /content/input-frames_half_pass2/frame%09d.png"
      ],
      "metadata": {
        "id": "xzIvxcbbmlIe"
      },
      "execution_count": null,
      "outputs": []
    },
    {
      "cell_type": "code",
      "source": [
        "!python3 -m frame_interpolation.eval.interpolator_cli -helpfull"
      ],
      "metadata": {
        "id": "BR70KGWmr8Yf"
      },
      "execution_count": null,
      "outputs": []
    },
    {
      "cell_type": "code",
      "source": [
        "#@markdown ##let's interpolate frames!\n",
        "#@markdown ###copy path to the sequence folder and paste it below\n",
        "\n",
        "folder = '/content/gdrive/MyDrive/FILM/frame_interpolation/photos' #@param {type:\"string\"}\n",
        "\n",
        "#@markdown ###the higher the next value, the longer the final video\n",
        "#@markdown ###(number of frames between real frames)\n",
        "#@markdown ###1 ≈ 2x, 2 ≈ 4x, 3 ≈ 8x etc.\n",
        "\n",
        "times = 9 #@param {type:\"slider\", min:1, max:10, step:1}\n",
        "fps = 30 #@param {type:\"slider\", min:1, max:60, step:1}\n",
        "\n",
        "#@markdown ###look for the result in your folder - output video and a new slow-motion image sequence\n",
        "\n",
        "if os.path.isdir('/content/gdrive/MyDrive/FILM/frame_interpolation/'):\n",
        "  path = '/content/gdrive/MyDrive/FILM/frame_interpolation/pretrained_models/film_net/Style/saved_model'\n",
        "else:\n",
        "  path = '/content/gdrive/MyDrive/FILM/frame_interpolation/pretrained_models/film_net/Style/saved_model'\n",
        "\n",
        "!python3 -m frame_interpolation.eval.interpolator_cli \\\n",
        "     --pattern $folder \\\n",
        "     --fps $fps \\\n",
        "     --model_path $path \\\n",
        "     --times_to_interpolate $times \\\n",
        "     --output_video"
      ],
      "metadata": {
        "id": "aefS-OV3mT5a"
      },
      "execution_count": null,
      "outputs": []
    },
    {
      "cell_type": "code",
      "source": [
        "!zip -r /content/x_half_pass1.zip  /content/input-frames_half/interpolated_frames"
      ],
      "metadata": {
        "id": "Uy4zjpYFee8X"
      },
      "execution_count": null,
      "outputs": []
    },
    {
      "cell_type": "code",
      "source": [],
      "metadata": {
        "id": "x9GSdTZ2goz1"
      },
      "execution_count": null,
      "outputs": []
    }
  ]
}