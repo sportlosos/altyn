{
  "cells": [
    {
      "cell_type": "markdown",
      "metadata": {
        "id": "view-in-github",
        "colab_type": "text"
      },
      "source": [
        "<a href=\"https://colab.research.google.com/github/sportlosos/altyn/blob/main/Simple_Whisper_Transcript_Video_mp4File_v.1.2.ipynb\" target=\"_parent\"><img src=\"https://colab.research.google.com/assets/colab-badge.svg\" alt=\"Open In Colab\"/></a>"
      ]
    },
    {
      "cell_type": "markdown",
      "source": [
        "<font size=64px> Whisper для новичков v1.2 / Транскрипт видео mp4 </font><a href=\"https://deepgram.com/openai-whisper\"><img src=\" \"\n",
        "height=\"64\" align=\"right\"></a>\n",
        "\n",
        "<font size=2px>By Ross O'Connell</font>\n",
        "\n",
        "Whisper is an exciting new model for automatic speech recognition (ASR) developed by OpenAI.\n",
        "#Colab разработан в редакции Пражской медиашколы  \n",
        "#[pragueschool.media](https://pragueschool.media)\n",
        "#Приходите к нам на курсы, чтобы практиковаться в работе с прикладными AI в хорошей компании - писать колабы под любую задачу, работать с текстами, видео, музыкой и изображениями.\n",
        "\n",
        "\n",
        "***Видео-руководство  по запуску предыдущего колаба -[Whisper для Новичков v1.1](https://colab.research.google.com/drive/1gCXVGM3tZxvjz9Mm7hgU8455y21hFaEo?fbclid=IwAR2Azss4thYjyPcfL62ZDOgirhUIEQGl3N69CVZWeAMgjaUVrjoy0hbGHHc_aem_AZQvoXV3u6-SqY5NA6hW6798i68t6xiOv2GeXla6pimllw1QqRMuDheZ5c9fSbrDZ0_vqZG-dI-1_jMwdZ6Ov9t-)- c расшифровкой mp3  *** - https://youtu.be/bQNfD4-zaVM - **4 минуты**"
      ],
      "metadata": {
        "id": "9qzwD9ts4_kc"
      }
    },
    {
      "cell_type": "markdown",
      "source": [
        "Инсталляция"
      ],
      "metadata": {
        "id": "rbunRPhiB5hu"
      }
    },
    {
      "cell_type": "markdown",
      "source": [
        "# 1. **Инсталляция**  |\n",
        "\n",
        "\n",
        "*   Нажмите кнопку play/треугольник, и подождите пока закончится установка. Повторите со всеми ячейками блокнота."
      ],
      "metadata": {
        "id": "V1QHcVQz4Gu7"
      }
    },
    {
      "cell_type": "code",
      "source": [
        "\n",
        "!pip install moviepy\n",
        "#!pip install git+https://github.com/openai/whisper.git"
      ],
      "metadata": {
        "id": "9uq_S5R_Bp66"
      },
      "execution_count": null,
      "outputs": []
    },
    {
      "cell_type": "markdown",
      "source": [
        "# 2 **Когда попросит разрешить доступ к вашему гугл-диску, - соглашайтесь**  \n"
      ],
      "metadata": {
        "id": "CNHQzJQfCsf0"
      }
    },
    {
      "cell_type": "code",
      "source": [
        "from google.colab import drive\n",
        "drive.mount('/content/drive')"
      ],
      "metadata": {
        "id": "SY-fCIv1CFrh"
      },
      "execution_count": null,
      "outputs": []
    },
    {
      "cell_type": "markdown",
      "source": [
        "#          3 **Вытаскиваем аудиодорожку из видео**"
      ],
      "metadata": {
        "id": "PAThSc_TCvtc"
      }
    },
    {
      "cell_type": "markdown",
      "source": [
        "#Вариант 1\n",
        "*Назовите ваш файл* **pragueschoolmedia.mp4** *и загрузите на G-Drive*\n",
        "#Вариант 2  \n",
        "*Если умеете, укажите путь к видеофайлу на вашем G-Drive самостоятельно в строке* **videofile name**     \n",
        "\n"
      ],
      "metadata": {
        "id": "WmCnZh3FAMMT"
      }
    },
    {
      "cell_type": "code",
      "source": [
        "from moviepy.editor import VideoFileClip\n",
        "\n",
        "# Указываем путь к видеофайлу на Google Драйве\n",
        "video_filename = \"/content/drive/My Drive/pragueschoolmedia.mp4\"\n",
        "\n",
        "# Задаем путь и имя файла для сохранения аудиодорожки на Google Драйве\n",
        "audio_filename = \"/content/drive/My Drive/pragueschoolmedia_audio.mp3\"\n",
        "\n",
        "try:\n",
        "    video = VideoFileClip(video_filename)\n",
        "    video.audio.write_audiofile(audio_filename)\n",
        "    print(f\"Аудиодорожка успешно извлечена и сохранена как: {audio_filename}\")\n",
        "except Exception as e:\n",
        "    print(\"Произошла ошибка:\", e)\n"
      ],
      "metadata": {
        "id": "KyRlARWr_nqw"
      },
      "execution_count": null,
      "outputs": []
    },
    {
      "cell_type": "markdown",
      "source": [
        "# 4 **Инсталляция Whisper**"
      ],
      "metadata": {
        "id": "JPL_FpjjU9Xg"
      }
    },
    {
      "cell_type": "code",
      "execution_count": null,
      "metadata": {
        "id": "HOvKw2K3kWqK"
      },
      "outputs": [],
      "source": [
        "!pip install git+https://github.com/openai/whisper.git"
      ]
    },
    {
      "cell_type": "markdown",
      "source": [
        " #  5 **Путь к аудиофайлу,  выбор модели и языка** ||  \n",
        "\n",
        "\n",
        "\n",
        "*  2.1 *Загрузите файл и скопируйте путь в красную строчку*  \n",
        "Чтобы скопировать путь к файлу, нажмите значок папки в левом меню, перетащите файл с компьютера, подождите пока загрузится и кликните на него правой кнопкой мыши - COPY PATH / Скопировать путь\n",
        "\n",
        "*  2.2 *Модели*: small, medium, large\n",
        "\n",
        "*  2.3  *Язык:* Russian,  English etc  \n",
        "\n",
        "\n",
        "\n"
      ],
      "metadata": {
        "id": "FatSKi3YAQCx"
      }
    },
    {
      "cell_type": "markdown",
      "source": [
        "2.4 Расшифровка нанется после загрузки модели. Нажмите play и подождите пока модель загрузится. Не закрывайте окно"
      ],
      "metadata": {
        "id": "yZ2-aeeBAefF"
      }
    },
    {
      "cell_type": "code",
      "source": [
        "!whisper \"/content/drive/My Drive/pragueschoolmedia_audio.mp3\" --model small --language Russian"
      ],
      "metadata": {
        "id": "uU1Bxv1y6zAx"
      },
      "execution_count": null,
      "outputs": []
    },
    {
      "cell_type": "markdown",
      "source": [
        "\n",
        "\n",
        "---\n",
        "\n",
        "\n",
        "\n",
        "\n",
        "\n"
      ],
      "metadata": {
        "id": "yEKnsnTk5iOS"
      }
    },
    {
      "cell_type": "markdown",
      "source": [
        "***Видео-руководство по запуску Whisper для Новичков v.1.1 *** - https://youtu.be/bQNfD4-zaVM - ***4 минуты***"
      ],
      "metadata": {
        "id": "Mu5cgIMD_xYq"
      }
    },
    {
      "cell_type": "markdown",
      "source": [
        "Click [here ](https://colab.research.google.com/github/deepgram-devs/try-whisper-in-google-collab/blob/main/try_whisper_in_three_easy_steps.ipynb#scrollTo=uU1Bxv1y6zAx ) for the  full version of Whisper  with youtube downloader and text cleaning features\n",
        "\n",
        "\n",
        "---\n",
        "\n",
        "\n"
      ],
      "metadata": {
        "id": "-axrahPw6Can"
      }
    }
  ],
  "metadata": {
    "colab": {
      "provenance": [],
      "private_outputs": true,
      "toc_visible": true,
      "include_colab_link": true
    },
    "kernelspec": {
      "display_name": "Python 3",
      "name": "python3"
    },
    "language_info": {
      "name": "python"
    },
    "accelerator": "GPU"
  },
  "nbformat": 4,
  "nbformat_minor": 0
}