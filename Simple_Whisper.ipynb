{
  "cells": [
    {
      "cell_type": "markdown",
      "metadata": {
        "id": "view-in-github",
        "colab_type": "text"
      },
      "source": [
        "<a href=\"https://colab.research.google.com/github/sportlosos/desktop-tutorial/blob/main/Simple_Whisper.ipynb\" target=\"_parent\"><img src=\"https://colab.research.google.com/assets/colab-badge.svg\" alt=\"Open In Colab\"/></a>"
      ]
    },
    {
      "cell_type": "markdown",
      "source": [
        "<font size=64px> Whisper для новичков </font><a href=\"https://deepgram.com/openai-whisper\"><img src=\" \"\n",
        "height=\"64\" align=\"right\"></a>\n",
        "\n",
        "<font size=2px>By Ross O'Connell</font>\n",
        "\n",
        "Whisper is an exciting new model for automatic speech recognition (ASR) developed by OpenAI. Colab by [Deepgram](https://deepgram-blog.ghost.io/ghost/#/editor/post/63374e260072bc003d64fd6a)\n",
        ">> **Под редакцией Пражской медиашколы**  [pragueschool.media](https://pragueschool.media)\n",
        "\n",
        ">> ***Видео-руководство по запуску этого колаба*** - https://youtu.be/bQNfD4-zaVM - **4 минуты**"
      ],
      "metadata": {
        "id": "9qzwD9ts4_kc"
      }
    },
    {
      "cell_type": "markdown",
      "source": [
        "# 1. **Инсталляция**  |\n",
        "\n",
        "\n",
        "*   Нажмите кнопку play/треугольник, и подождите пока закончится установка\n",
        "\n"
      ],
      "metadata": {
        "id": "V1QHcVQz4Gu7"
      }
    },
    {
      "cell_type": "code",
      "execution_count": null,
      "metadata": {
        "id": "HOvKw2K3kWqK"
      },
      "outputs": [],
      "source": [
        "!pip install git+https://github.com/openai/whisper.git"
      ]
    },
    {
      "cell_type": "markdown",
      "source": [
        "# 2.**Путь к аудиофайлу,  выбор модели и языка** ||  \n",
        "\n",
        "\n",
        "\n",
        "*  2.1 *Загрузите файл и скопируйте путь в красную строчку*  \n",
        "Чтобы скопировать путь к файлу, нажмите значок папки в левом меню, перетащите файл с компьютера, подождите пока загрузится и кликните на него правой кнопкой мыши - COPY PATH / Скопировать путь\n",
        "\n",
        "*  2.2 *Модели*: small, medium, large\n",
        "\n",
        "*  2.3  *Язык:* Russian,  English etc  \n",
        "\n",
        "\n",
        "\n"
      ],
      "metadata": {
        "id": "FatSKi3YAQCx"
      }
    },
    {
      "cell_type": "markdown",
      "source": [
        "2.4 Расшифровка нанется после загрузки модели. Нажмите play и подождите пока модель загрузится. Не закрывайте окно"
      ],
      "metadata": {
        "id": "yZ2-aeeBAefF"
      }
    },
    {
      "cell_type": "code",
      "source": [
        "!whisper \"/content/whisper_1.mp3\" --model small --language Russian"
      ],
      "metadata": {
        "id": "uU1Bxv1y6zAx"
      },
      "execution_count": null,
      "outputs": []
    },
    {
      "cell_type": "markdown",
      "source": [
        "\n",
        "\n",
        "---\n",
        "\n",
        "\n",
        "\n",
        "\n",
        "\n"
      ],
      "metadata": {
        "id": "yEKnsnTk5iOS"
      }
    },
    {
      "cell_type": "markdown",
      "source": [
        "***Видео-руководство по запуску  *** - https://youtu.be/bQNfD4-zaVM - ***4 минуты***"
      ],
      "metadata": {
        "id": "Mu5cgIMD_xYq"
      }
    },
    {
      "cell_type": "markdown",
      "source": [
        "Click [here ](https://colab.research.google.com/github/deepgram-devs/try-whisper-in-google-collab/blob/main/try_whisper_in_three_easy_steps.ipynb#scrollTo=uU1Bxv1y6zAx ) for the  full version of Whisper  with youtube downloader and text cleaning features\n",
        "\n",
        "\n",
        "---\n",
        "\n",
        "\n"
      ],
      "metadata": {
        "id": "-axrahPw6Can"
      }
    }
  ],
  "metadata": {
    "colab": {
      "provenance": [],
      "private_outputs": true,
      "include_colab_link": true
    },
    "kernelspec": {
      "display_name": "Python 3",
      "name": "python3"
    },
    "language_info": {
      "name": "python"
    },
    "accelerator": "GPU"
  },
  "nbformat": 4,
  "nbformat_minor": 0
}