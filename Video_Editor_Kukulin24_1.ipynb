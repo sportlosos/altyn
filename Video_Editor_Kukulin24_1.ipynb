{
  "nbformat": 4,
  "nbformat_minor": 0,
  "metadata": {
    "colab": {
      "private_outputs": true,
      "provenance": [],
      "toc_visible": true,
      "mount_file_id": "1saa7gft1bBI4vxVocSGQm0gg4yZvJ9ji",
      "authorship_tag": "ABX9TyOViusIt9QMjfb0se9lQnMO",
      "include_colab_link": true
    },
    "kernelspec": {
      "name": "python3",
      "display_name": "Python 3"
    },
    "language_info": {
      "name": "python"
    }
  },
  "cells": [
    {
      "cell_type": "markdown",
      "metadata": {
        "id": "view-in-github",
        "colab_type": "text"
      },
      "source": [
        "<a href=\"https://colab.research.google.com/github/sportlosos/desktop-tutorial/blob/main/Video_Editor_Kukulin24_1.ipynb\" target=\"_parent\"><img src=\"https://colab.research.google.com/assets/colab-badge.svg\" alt=\"Open In Colab\"/></a>"
      ]
    },
    {
      "cell_type": "markdown",
      "source": [
        "# **Video Editor Kukulin 24.1** >\n",
        "      \n",
        "      by Zlata P. aka @possuminside  \n",
        "\n",
        "\n",
        ">>> **24.03.24**\n",
        "\n",
        ">\n",
        "\n",
        "- Здесь ты можешь скачать видео с youtube\n",
        "- Вырезать из него фрагмент .mp4\n",
        "- Написать и сохранить титры .srt\n",
        "- Сгенерировать видео с \"вшитыми\" титрами  \n",
        "\n",
        "\n",
        "\n",
        "\n",
        "---\n",
        "\n",
        "\n",
        "---\n",
        "\n",
        "\n",
        "\n",
        "***Начало работы***:\n",
        "\n",
        "> Сохраняй блокнот к себе на Гугл-диск:\n",
        ">> file- > save a copy on drive\n",
        "\n",
        "***Перезагрузка:***\n",
        ">> runtime -> Disconnect and Delete Runtime\n",
        "\n",
        "***!!! Запускай ячейки по очереди***\n",
        "\n"
      ],
      "metadata": {
        "id": "LdSLKCF60Qc8"
      }
    },
    {
      "cell_type": "markdown",
      "source": [
        "# 1. **Запуск**\n",
        "---\n",
        ">> Нажми кнопочку \"play\" слева от ячейки, чтобы загрузить библиотеки.\n"
      ],
      "metadata": {
        "id": "spKB2Gvm0Wjt"
      }
    },
    {
      "cell_type": "code",
      "execution_count": null,
      "metadata": {
        "id": "FzCrZv9feUvX"
      },
      "outputs": [],
      "source": [
        "!pip install pytube\n",
        "!pip install moviepy"
      ]
    },
    {
      "cell_type": "markdown",
      "source": [],
      "metadata": {
        "id": "XMNQ3e3tld1x"
      }
    },
    {
      "cell_type": "markdown",
      "source": [
        "# 2.  **Скачать видео с YouTube**\n",
        "---\n",
        ">> Замени ссылку YouTube видео и нажми \"play\"\n",
        "--\n",
        "\n",
        ">> Кавычки обязательны. Скачанное видео по умолчанию будет называться **2_downloaded_video.mp4**, ты найдешь его во временной папке,  которую можно открыть кликнув на значок папки в левом меню. Если ты закроешь эту страницу - все данные временной папки исчезнут."
      ],
      "metadata": {
        "id": "SxEexMPH0hZs"
      }
    },
    {
      "cell_type": "code",
      "source": [
        "from pytube import YouTube\n",
        "\n",
        "link = \"https://www.youtube.com/watch?v=nqWCUWNn5As\"  # Replace with your video link\n",
        "yt = YouTube(link)\n",
        "\n",
        "# Download the highest resolution video\n",
        "ys = yt.streams.get_highest_resolution()\n",
        "ys.download(filename='2_downloaded_video.mp4')\n"
      ],
      "metadata": {
        "id": "RIZllScreb72"
      },
      "execution_count": null,
      "outputs": []
    },
    {
      "cell_type": "markdown",
      "source": [
        "Скачанное видео по умолчанию будет называться **2_downloaded_video.mp4**, ты найдешь его во временной папке, которую можно открыть кликнув на значок папки в левом меню. Если ты закроешь эту страницу - все данные временной папки исчезнут.\n",
        "\n",
        "\n",
        "---\n",
        "\n",
        "\n",
        "\n"
      ],
      "metadata": {
        "id": "xzdLPAj4lmzD"
      }
    },
    {
      "cell_type": "markdown",
      "source": [
        "#3. Вырезать фрагмент\n",
        "\n",
        "\n",
        "---\n",
        "\n"
      ],
      "metadata": {
        "id": "rm0LExD2luTQ"
      }
    },
    {
      "cell_type": "markdown",
      "source": [
        "Нужно в скобках указать start time: часы, минуты и секунды начала и end_time.  Лишние нули перед цифрами не нужно ставить, - в примере начало отрезки (0, 0, 35) это ноль часов, ноль минут, тридцать пять секунд, а  конец (0, 1, 8) -  одна минута, восемь секунд)   \n",
        "\n",
        ">> По умолчанию, если ничего не менять в предыдущих ячейках кроме адреса YouTube,  - видео которое ты скачал с ютьюба в предыдущем шаге и теперь режешь называется **2_downloaded_video**,  путь к нему указан красными буквами, в кавычках\n",
        "\n",
        ">> Второй красный текст здесь - это название будуешго фрагмента, по умолчанию -  **3_Videokusochek.mp4**, если будешь переименовывать,не забывай писать -  расширение .mp4    \n",
        "**Как только выполнение ячейки завершится - твой фрагмент готов и ждет тебя во временной папке слева**, - просто скачай 3_Videokusocheck на компьютер.\n"
      ],
      "metadata": {
        "id": "RRLkP3ucxTXK"
      }
    },
    {
      "cell_type": "code",
      "source": [
        "from moviepy.video.io.ffmpeg_tools import ffmpeg_extract_subclip\n",
        "\n",
        "start_time = (0, 0, 37)  # Start time in (hour, minute, second)\n",
        "end_time = (0, 1, 8)  # End time in (hour, minute, second)\n",
        "#1.8.30—1.10.54\n",
        "\n",
        "# Convert time to seconds\n",
        "start_time_seconds = start_time[0]*3600 + start_time[1]*60 + start_time[2]\n",
        "end_time_seconds = end_time[0]*3600 + end_time[1]*60 + end_time[2]\n",
        "\n",
        "ffmpeg_extract_subclip(\"/content/2_downloaded_video.mp4\", start_time_seconds, end_time_seconds, targetname=\"3_VIDEOkusochek.mp4\")\n"
      ],
      "metadata": {
        "id": "aJN7Y6gLf9KB"
      },
      "execution_count": null,
      "outputs": []
    },
    {
      "cell_type": "markdown",
      "source": [
        "\n",
        "\n",
        "---\n",
        "\n",
        "\n",
        "#4. Создание субтитров к фрагменту\n",
        " **\"start\": \"00:00:58,000\", \"end\": \"00:01:08,000\",** - время начала и конца титра в одной строчке,\n",
        " >> Переход на новую строку - новый титр, в нем время старта больше чем в конце прошлого.\n",
        " >>  После таймкодов записывается сам текст титров. Все кавычки, пробелы, потом фигурная скобка и запятая - обязательно, синие скобки тоже. В самом последнем титре запятую не ставь.\n",
        " >> Можно попросить chatgpt записать тебе этот формат на основе более простых рукотворных таймкодов или результатов расшифровки [Whisper](https://colab.research.google.com/drive/1gCXVGM3tZxvjz9Mm7hgU8455y21hFaEo) Colab.  \n",
        "#### *По умолчанию сгенерированные  титры имеют названи*е **4_TEXT.srt** -   их файл  тоже  появится во временной папке в левом меню. Можно его скачать и использовать  в  видеоплеере твоего компьютера, например. Или открыть в блокноте и редактировать. >>\n",
        ">> P.S. Здесь не работают  файлы .doc / word  \n",
        ""
      ],
      "metadata": {
        "id": "26-zUhWc2g4w"
      }
    },
    {
      "cell_type": "code",
      "source": [
        "# Вот так выглядит файл субиттиров Update the subtitles with the newly provided first line часы -минуты-секунды-милисекунды  - нужно указывать начало титра и конец титра\n",
        "subtitles = [\n",
        "    {\"start\": \"00:00:01,000\", \"end\": \"00:00:04,000\", \"text\": \"I'm a friend of Sarah Connor\"},\n",
        "    {\"start\": \"00:00:04,000\", \"end\": \"00:00:06,000\", \"text\": \"I was told that she's here. Could I see her please?\"},\n",
        "    {\"start\": \"00:00:06,000\", \"end\": \"00:00:08,000\", \"text\": \"No, can't see her. She's making a statement\"},\n",
        "    {\"start\": \"00:00:08,000\", \"end\": \"00:00:10,000\", \"text\": \"Where is she?\"},\n",
        "    {\"start\": \"00:00:10,000\", \"end\": \"00:00:12,000\", \"text\": \"Look, it may take a while\"},\n",
        "    {\"start\": \"00:00:12,000\", \"end\": \"00:00:14,000\", \"text\": \"I want to wait. There's a bench over there\"},\n",
        "    {\"start\": \"00:00:31,000\", \"end\": \"00:00:33,000\", \"text\": \"I'll be back\"}\n",
        "]\n",
        "\n",
        "# Regenerate SRT content with the updated subtitles\n",
        "srt_content = \"\"\n",
        "for i, subtitle in enumerate(subtitles, start=1):\n",
        "    srt_content += f\"{i}\\n{subtitle['start']} --> {subtitle['end']}\\n{subtitle['text']}\\n\\n\"\n",
        "\n",
        "# Update the filename for the regenerated SRT file\n",
        "updated_srt_filename = '4_TEXT.srt'\n",
        "\n",
        "# Write the updated SRT content to a new file\n",
        "with open(updated_srt_filename, 'w') as file:\n",
        "    file.write(srt_content)\n"
      ],
      "metadata": {
        "id": "opQ2kF3q5zR1"
      },
      "execution_count": null,
      "outputs": []
    },
    {
      "cell_type": "markdown",
      "source": [
        "\n",
        "\n",
        "---\n",
        "\n",
        "\n",
        "#5. Генерация видео с титрами\n",
        "- ## Рендер может занять некоторое время.\n",
        "- ### Результат ищи в файле под названием **5_VideoWithTitles.mp4** все в том же левом меню.\n",
        "\n",
        ">>  В этой ячейке итог всей работы: она собирает вместе фрагмент, титры, и здесь есть еще некоторые настройки, возможно знакомые тебе, - контрастность и яркость. Если видео рендерится слишком темное\\светлое ты можешь немножко изменить эти параметры. А еще, ты можешь регулировать размер шрифта.\n",
        "\n",
        " >> Если интересно, что тут еще есть - скопируй эту строчку кода отнеси в  https://chat.openai.com/ , лучше всего в платный, c Data Analyst, например,и попроси  рассказать тебе подробно о ее функциях. Этот же принцип применяй ко всем ячейкам, если что-то не работает, или ты  захочется добавить функции к уже существующим.\n",
        "\n",
        "\n",
        "- ### Ячейка защищена от случайной перезаписи, поэтому обращай внимание на выполнение ячейки: если ты не будешь менять имя видео, то на второй генерации через несколько секунд после нажатия кнопки \"play\", появится вопрос:\n",
        " >>>  File already exists. Overwrite? [y/N]   \n",
        " >>>   Кликни справа от него и нажми букву Y на клавиатуре (Да) или N (Нет) и нажми Enter  \n"
      ],
      "metadata": {
        "id": "C-8q9D-nAFtU"
      }
    },
    {
      "cell_type": "code",
      "source": [
        "!ffmpeg -i \"/content/3_VIDEOkusochek.mp4\" -vf  \"eq=brightness=0.08:contrast=1.3, subtitles=/content/4_TEXT.srt:force_style='FontName=Arial,FontSize=18,PrimaryColour=&H00ffffff,BackColour=&H00000000,BorderStyle=3,Outline=0,Shadow=0'\" -c:v libx264 -crf 17 -preset slow -c:a aac -b:a 192k \"/content/5_VideoWithTitles.mp4\""
      ],
      "metadata": {
        "id": "yRW_OSRN6crU"
      },
      "execution_count": null,
      "outputs": []
    },
    {
      "cell_type": "markdown",
      "source": [
        "\n",
        "\n",
        "---\n",
        "\n",
        "\n",
        "#6. Готово\n",
        "Чтобы скачать фрагмент с титрами, открой меню слева, поднеси мышь к файлу под названием **5_VideoWithTitles.mp4**, кликни правой кнопкой и нажми \"Download\"  \n",
        "\n",
        "\n",
        "---\n",
        "\n"
      ],
      "metadata": {
        "id": "RB_ghrmE9Mhm"
      }
    }
  ]
}